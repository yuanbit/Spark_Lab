{
 "cells": [
  {
   "cell_type": "markdown",
   "metadata": {},
   "source": [
    "## Experiment-05\n",
    "### Amirreza Fosoul and Bithiah Yuan"
   ]
  },
  {
   "cell_type": "code",
   "execution_count": 1,
   "metadata": {},
   "outputs": [],
   "source": [
    "from pyspark.sql import SparkSession\n",
    "from pyspark import SparkContext\n",
    "from pyspark.sql.functions import *\n",
    "import string\n",
    "import csv\n",
    "import re\n",
    "import time\n",
    "spark = SparkSession.builder.appName('ex5').getOrCreate()\n",
    "\n",
    "from pyspark.sql.functions import *\n",
    "from pyspark.sql.functions import split, udf, desc, concat, col, lit\n",
    "import pyspark.sql.functions as f\n",
    "from pyspark.sql.types import ArrayType, FloatType, StringType, IntegerType, DoubleType, StructType, StructField\n",
    "from pyspark.ml.feature import RegexTokenizer\n",
    "from pyspark.ml.feature import StopWordsRemover\n",
    "from pyspark.sql.window import Window\n",
    "from pyspark.ml.linalg import SparseVector, VectorUDT, DenseVector\n",
    "import scipy.sparse\n",
    "from pyspark.ml.linalg import Vectors, _convert_to_vector, VectorUDT\n",
    "import numpy as np\n",
    "from pyspark.sql import SQLContext\n",
    "from nltk.stem import PorterStemmer\n",
    "from nltk.tokenize import sent_tokenize, word_tokenize\n",
    "import math\n",
    "import re\n",
    "from pyspark.ml.feature import CountVectorizer, CountVectorizerModel\n",
    "#from pyspark.mllib.feature import Word2Vec\n",
    "from pyspark.ml.feature import Word2Vec\n",
    "from pyspark.sql.functions import rand \n",
    "\n",
    "sc = spark.sparkContext\n",
    "sqlContext = SQLContext(sc)"
   ]
  },
  {
   "cell_type": "code",
   "execution_count": 2,
   "metadata": {},
   "outputs": [],
   "source": [
    "# Read user ratings into Dataframe\n",
    "#user_df = spark.read.option(\"delimiter\", \";\").csv('./users_libraries.txt')\n",
    "user_df = spark.read.option(\"delimiter\", \";\").csv('./example0.txt')\n",
    "user_df = user_df.select(col(\"_c0\").alias(\"userID\"), col(\"_c1\").alias(\"paperID\"))\n",
    "\n",
    "user_df_pre = user_df\n",
    "user_df_pre = user_df_pre.withColumn(\"paperID\", split(col(\"paperID\"), \",\").cast(ArrayType(IntegerType())).alias(\"paperID\"))\n",
    "\n",
    "user_df = user_df.select(\"userID\", f.split(\"paperID\", \",\").alias(\"papers\"), f.explode(f.split(\"paperID\", \",\")).alias(\"paperID\"))\n",
    "user_df = user_df.drop(\"papers\")\n",
    "\n",
    "# Get a dataframe of the distinct papers\n",
    "d_paper = user_df.select(\"paperID\").distinct()\n",
    "\n",
    "# Read in the stopwords as a list\n",
    "with open('./stopwords_en.txt') as file:\n",
    "    stopwordList = file.read().splitlines()\n",
    "\n",
    "# Read in records of paper information\n",
    "w_df = spark.read.csv('./papers.csv')\n",
    "#w_df = spark.read.csv('./paper0.csv')\n",
    "w_df = w_df.select(\"_c0\", \"_c13\", \"_c14\")\n",
    "w_df = w_df.select(col(\"_c0\").alias(\"paperID\"), col(\"_c13\").alias(\"title\"), col(\"_c14\").alias(\"abstract\"))\n",
    "w_df = w_df.na.fill({'title': '', 'abstract': ''}) # to replace null values with empty string\n",
    "# Get text from title and abstract\n",
    "w_df = w_df.select(col(\"paperID\"), concat(col(\"title\"), lit(\" \"), col(\"abstract\")).alias(\"words\"))\n",
    "#w_df.show()\n",
    "\n",
    "# Transform the distinct paperIDs dataframe to a list\n",
    "paper_list = list(d_paper.select('paperID').toPandas()['paperID'])\n",
    "# Map each distinct paper into int\n",
    "paper_list = list(map(int, paper_list))"
   ]
  },
  {
   "cell_type": "markdown",
   "metadata": {},
   "source": [
    "### Exercise 5. 1 (Pre-processing Text for word2vec)"
   ]
  },
  {
   "cell_type": "code",
   "execution_count": 3,
   "metadata": {},
   "outputs": [],
   "source": [
    "################################### Conservative pre-processing ###################################################\n",
    "\n",
    "# Extracting words from the papers and keeping \"-\" and \"_\"\n",
    "tokenizer = RegexTokenizer(inputCol=\"words\", outputCol=\"tokens\", pattern=\"[a-zA-Z-_]+\", gaps=False) \n",
    "# Built-in tokenizer\n",
    "tokenized = tokenizer.transform(w_df)\n",
    "tokenized = tokenized.select(\"paperID\", \"tokens\")\n",
    "\n",
    "# udf to remove \"-\" and \"_\" from the tokens\n",
    "remove_hyphen_udf = udf(lambda x: [re.sub('[-|_]', '', word) for word in x], ArrayType(StringType()))\n",
    "# Apply udf to the tokens\n",
    "df = tokenized.withColumn('tokens', remove_hyphen_udf(col('tokens')))\n",
    "# udf to remove words less than 3 letters\n",
    "remove_short_words = udf(lambda x: [item for item in x if len(item) >= 3], ArrayType(StringType()))\n",
    "# Apply udf to the tokens\n",
    "df = df.withColumn('tokens', remove_short_words(col('tokens')))\n",
    "\n",
    "conservative_df = df\n",
    "conservative_df = conservative_df.withColumn(\"paperID\", conservative_df[\"paperID\"].cast(IntegerType()))\n",
    "\n",
    "word2Vec = Word2Vec(vectorSize=100, inputCol=\"tokens\", outputCol=\"result\")\n",
    "model = word2Vec.fit(conservative_df)\n",
    "\n",
    "\n",
    "# print(\"top10 most similar words to “science” using conservative pre-processing\")\n",
    "# print()\n",
    "# synonyms = model.findSynonyms('science', 10)\n",
    "# synonyms.show()\n",
    "\n",
    "# #################################### Intensive pre-processing #####################################################\n",
    "# # Built-in function to remove stopwords from our custom list\n",
    "# remover = StopWordsRemover(inputCol=\"tokens\", outputCol=\"filtered\" , stopWords=stopwordList)\n",
    "# df = remover.transform(df)\n",
    "# df = df.select(\"paperID\", \"filtered\")\n",
    "\n",
    "# # Apply stemming with NLTK\n",
    "# # Built-in class from NLTK\n",
    "# ps = PorterStemmer()\n",
    "# # udf to apply stemming\n",
    "# stemming = udf(lambda x: [ps.stem(item) for item in x], ArrayType(StringType()))\n",
    "# # apply udf to tokens\n",
    "# df = df.withColumn('tokens', stemming(col('filtered')))\n",
    "# df = df.select(\"paperID\", \"tokens\")\n",
    "\n",
    "# intensive_df = df\n",
    "\n",
    "# word2Vec = Word2Vec(vectorSize=100, inputCol=\"tokens\", outputCol=\"result\")\n",
    "# model2 = word2Vec.fit(intensive_df)\n",
    "\n",
    "# print(\"top10 most similar words to “science” using intensive pre-processing\")\n",
    "# print()\n",
    "# synonyms2 = model2.findSynonyms(ps.stem('science'), 10)\n",
    "# synonyms2.show()"
   ]
  },
  {
   "cell_type": "markdown",
   "metadata": {},
   "source": [
    "### The results for intensive pre-processing are better (the similarity scores are higher) because unimportant words are removed and words with the same stems are shown in the same token."
   ]
  },
  {
   "cell_type": "markdown",
   "metadata": {},
   "source": [
    "### Exercise 5. 2 (Analogies)"
   ]
  },
  {
   "cell_type": "code",
   "execution_count": 4,
   "metadata": {},
   "outputs": [
    {
     "name": "stdout",
     "output_type": "stream",
     "text": [
      "analogy for the conservative pre-processing model:\n",
      "\n",
      "+----------+------------------+\n",
      "|      word|        similarity|\n",
      "+----------+------------------+\n",
      "|      gene|0.9341816902160645|\n",
      "|largescale|0.9305847883224487|\n",
      "|sequencing| 0.929004967212677|\n",
      "|   several|0.9272071123123169|\n",
      "|       seq|0.9258444905281067|\n",
      "+----------+------------------+\n",
      "\n",
      "analogy for the intensive pre-processing model:\n",
      "\n",
      "+------------+------------------+\n",
      "|        word|        similarity|\n",
      "+------------+------------------+\n",
      "|     graphen|0.9251900315284729|\n",
      "|        mass|0.9182692766189575|\n",
      "|        test|0.9107112884521484|\n",
      "|spectrometri|0.9089006185531616|\n",
      "|       point|0.9021362662315369|\n",
      "+------------+------------------+\n",
      "\n"
     ]
    }
   ],
   "source": [
    "def getAverageVector(query, model):\n",
    "    df = sqlContext.createDataFrame([[query]], ['tokens'])\n",
    "    return model.transform(df)\n",
    "\n",
    "def analogy(word1, word2, word3, model, stemming=False):        \n",
    "    vec = model.getVectors()\n",
    "    words = [word1, word2, word3]\n",
    "    keywords = []\n",
    "    vectors = []\n",
    "    for i in words:\n",
    "        keywords.append([x.lower().strip() for x in re.split(\"[^A-Za-z]+\", i)])\n",
    "        \n",
    "    if stemming:\n",
    "        for i, query in enumerate(keywords):\n",
    "            for j, word in enumerate(query):\n",
    "                keywords[i][j] = ps.stem(word)\n",
    "    \n",
    "    for query in keywords:\n",
    "        if len(query) > 1:\n",
    "            vectors.append(getAverageVector(query, model).head()[1])\n",
    "        else:\n",
    "            vectors.append(vec.where(vec.word==query[0]).head()[1])\n",
    "            \n",
    "    w = vectors[0] - vectors[1] + vectors[2]\n",
    "    result = model.findSynonyms((-1)*w,5)\n",
    "    return result\n",
    "\n",
    "print(\"analogy for the conservative pre-processing model:\")\n",
    "print()\n",
    "analogy(\"machine learning\", \"prediction\", \"recommender system\", model, stemming=False).show()\n",
    "\n",
    "print(\"analogy for the intensive pre-processing model:\")\n",
    "print()\n",
    "analogy(\"machine learning\", \"prediction\", \"recommender systems\", model2, stemming=True).show()\n"
   ]
  },
  {
   "cell_type": "markdown",
   "metadata": {},
   "source": [
    "### Exercise 5. 3 (From Embeddings to Paper Recommendation)"
   ]
  },
  {
   "cell_type": "code",
   "execution_count": 4,
   "metadata": {},
   "outputs": [],
   "source": [
    "paper_w2v_cp = model.transform(conservative_df)\n",
    "paper_w2v_cp = paper_w2v_cp.select(\"paperID\", col(\"result\").alias(\"paper_profile\"))\n",
    "\n",
    "#paper_w2v_cp.show()"
   ]
  },
  {
   "cell_type": "code",
   "execution_count": 5,
   "metadata": {},
   "outputs": [],
   "source": [
    "def getUserProfile(user_df, preprocessed_df):\n",
    "    user_doc = user_df.join(preprocessed_df, ['paperID']).orderBy(\"userID\")\n",
    "    user_doc = user_doc.drop(\"paperID\")\n",
    "    # Concatenate the words of the user library\n",
    "    user_doc = user_doc.rdd.map(lambda user_doc: (user_doc.userID, user_doc.tokens)).reduceByKey(lambda x,y: x + y).toDF(['userID','tokens'])\n",
    "    \n",
    "    # Use word2Vec model fitting\n",
    "    model_user = word2Vec.fit(user_doc)\n",
    "    user_w2v_cp = model_user.transform(user_doc)\n",
    "    user_w2v_cp = user_w2v_cp.select(\"userID\", col(\"result\").alias(\"user_profile\"))\n",
    "    return user_w2v_cp\n",
    "\n",
    "#getUserProfile(user_df, conservative_df).show()"
   ]
  },
  {
   "cell_type": "code",
   "execution_count": 6,
   "metadata": {},
   "outputs": [],
   "source": [
    "# Function to call in udf\n",
    "def unrated(papers):\n",
    "    # Transform the list of distinct papers and the list of rated papers of each user to a set\n",
    "    # Substract the two sets to get the list of unrated papers for each user\n",
    "    # Transform back to list\n",
    "    unrated = list(set(paper_list) - set(papers))\n",
    "    \n",
    "    return unrated\n",
    "\n",
    "\n",
    "# udf to get a list of unrated papers with the length of rated papers for each user\n",
    "get_unrated = udf(lambda x: unrated(x), ArrayType(IntegerType()))\n",
    "\n",
    "# Add a new column of unrated papers for each user\n",
    "unrated_df = user_df_pre.withColumn(\"unrated\", get_unrated(user_df_pre.paperID))\n",
    "\n",
    "unrated_df = unrated_df.drop(\"paperID\")\n",
    "\n",
    "unrated_df = unrated_df.withColumn(\"paperID\", explode(unrated_df.unrated))\n",
    "\n",
    "unrated_df = unrated_df.drop(\"unrated\")\n"
   ]
  },
  {
   "cell_type": "code",
   "execution_count": 8,
   "metadata": {},
   "outputs": [
    {
     "name": "stdout",
     "output_type": "stream",
     "text": [
      "+-------+--------------------+--------------------+--------------------+\n",
      "|paperID|              userID|        user_profile|       paper_profile|\n",
      "+-------+--------------------+--------------------+--------------------+\n",
      "| 212874|90f1a3e6fcdbf9bc5...|[-0.0123414472889...|[0.00687372803361...|\n",
      "|1326856|90f1a3e6fcdbf9bc5...|[-0.0123414472889...|[0.01563527342708...|\n",
      "|  81501|90f1a3e6fcdbf9bc5...|[-0.0123414472889...|[0.01630953084111...|\n",
      "|  65083|90f1a3e6fcdbf9bc5...|[-0.0123414472889...|[-0.0018720912533...|\n",
      "| 523772|90f1a3e6fcdbf9bc5...|[-0.0123414472889...|[0.00310046652642...|\n",
      "| 105906|90f1a3e6fcdbf9bc5...|[-0.0123414472889...|[-0.0282111878506...|\n",
      "|1121661|90f1a3e6fcdbf9bc5...|[-0.0123414472889...|[0.02301386825811...|\n",
      "|7355647|90f1a3e6fcdbf9bc5...|[-0.0123414472889...|[0.00381538080857...|\n",
      "|  72879|90f1a3e6fcdbf9bc5...|[-0.0123414472889...|[0.00342003746935...|\n",
      "| 244827|90f1a3e6fcdbf9bc5...|[-0.0123414472889...|[0.03173502150324...|\n",
      "| 244827|90f1a3e6fcdbf9bc5...|[-0.0123414472889...|[0.03173502150324...|\n",
      "|5307378|90f1a3e6fcdbf9bc5...|[-0.0123414472889...|[-0.0240559766534...|\n",
      "| 531300|90f1a3e6fcdbf9bc5...|[-0.0123414472889...|[0.01635585342362...|\n",
      "| 211804|90f1a3e6fcdbf9bc5...|[-0.0123414472889...|[0.00934883588676...|\n",
      "| 965334|90f1a3e6fcdbf9bc5...|[-0.0123414472889...|[0.00249130725928...|\n",
      "| 965334|90f1a3e6fcdbf9bc5...|[-0.0123414472889...|[0.00249130725928...|\n",
      "|  80546|90f1a3e6fcdbf9bc5...|[-0.0123414472889...|[0.01414264371350...|\n",
      "| 849862|90f1a3e6fcdbf9bc5...|[-0.0123414472889...|[0.02438182866211...|\n",
      "| 956315|90f1a3e6fcdbf9bc5...|[-0.0123414472889...|[0.01656261971834...|\n",
      "|1242600|90f1a3e6fcdbf9bc5...|[-0.0123414472889...|[0.01473066726854...|\n",
      "+-------+--------------------+--------------------+--------------------+\n",
      "only showing top 20 rows\n",
      "\n"
     ]
    }
   ],
   "source": [
    "new_df = unrated_df.join(user_w2v_cp, [\"userID\"]).join(paper_w2v_cp, [\"paperID\"])\n",
    "new_df.show()"
   ]
  },
  {
   "cell_type": "code",
   "execution_count": 7,
   "metadata": {},
   "outputs": [],
   "source": [
    "import numpy as np \n",
    "\n",
    "def cos_sim(u, p):\n",
    "    result = (np.dot(u, p))/(np.linalg.norm(u) * np.linalg.norm(p))\n",
    "    result = result.item()\n",
    "    return result\n",
    "\n",
    "compute_sim = udf(cos_sim, FloatType())"
   ]
  },
  {
   "cell_type": "code",
   "execution_count": 8,
   "metadata": {},
   "outputs": [],
   "source": [
    "def w2vRS(df, k, passUserID=False, userID=None):\n",
    "    if passUserID:\n",
    "        df = df.where(df.userID==userID)\n",
    "    # Apply similarity metric to the user_profile and paper_profile\n",
    "    sim_df = df.withColumn('Similarity', compute_sim(df.user_profile, df.paper_profile))\n",
    "    # Partition by userID and order by the similarity in descending order\n",
    "    window = Window.partitionBy(col(\"userID\")).orderBy((col(\"Similarity\")).desc())\n",
    "    # Add row numbers to the rows and get the top-k rows\n",
    "    sim_df = sim_df.select(col('*'), row_number().over(window).alias('row_number')).where(col('row_number') <= k)\n",
    "\n",
    "    # Renaming\n",
    "    get_r = sim_df.select(\"userID\", \"paperID\", col(\"row_number\").alias(\"rank\"))\n",
    "    w2vRS_df = get_r.select(\"userID\", \"paperID\")\n",
    "    # un-explode, concatenate the recommended papers for each user\n",
    "    w2vRS_df = w2vRS_df.groupby(\"userID\").agg(f.concat_ws(\", \", f.collect_list(w2vRS_df.paperID)).alias(\"top_papers\"))\n",
    "    \n",
    "    return w2vRS_df\n",
    "\n",
    "# k = 10\n",
    "\n",
    "# user = \"1eac022a97d683eace8815545ce3153f\"\n",
    "\n",
    "# user_rec = w2vRS(new_df, k, passUserID=True, userID=user)\n",
    "\n",
    "# user_rec.show(truncate=False)"
   ]
  },
  {
   "cell_type": "markdown",
   "metadata": {},
   "source": [
    "### Exercise 5. 4 (Evaluation of Recommender System)"
   ]
  },
  {
   "cell_type": "code",
   "execution_count": 9,
   "metadata": {},
   "outputs": [],
   "source": [
    "get_lib_size_udf = udf(lambda x:len(x), IntegerType())\n",
    "\n",
    "def sampling(num_users, df, trainingSize=0.8):\n",
    "    # first we sample users and then we sample each user's library\n",
    "    \n",
    "    get_training_size_udf = udf(lambda x:int(x*trainingSize), IntegerType())\n",
    "    sampled_users = df.orderBy(rand()).limit(num_users)\n",
    "    sampled_users = sampled_users.withColumn('libSize', get_lib_size_udf('paperID'))\n",
    "    sampled_users = sampled_users.withColumn('trainingSize', get_training_size_udf('libSize'))\n",
    "    \n",
    "    # explode the paperIDs for each user\n",
    "    sampled_exploded = sampled_users.withColumn('paperID', explode(col('paperID')))\n",
    "\n",
    "    # Partion by userID and order them randomly\n",
    "    window = Window.partitionBy(col('userID')).orderBy(rand())\n",
    "\n",
    "    # Get row numbers\n",
    "    sampled_exploded = sampled_exploded.select(col('*'), row_number().over(window).alias('row_number'))\n",
    "\n",
    "    # Get the rows less than or equal to the training set size\n",
    "    # The rows will be different each time because of .orderBy(rand()) in the window function\n",
    "    training_df = sampled_exploded.where(col('row_number') <= col('trainingSize'))\n",
    "    training_df = training_df.select('userID', 'paperID').orderBy('userID')\n",
    "    #training_df.show()\n",
    "\n",
    "    # Get the test set by selecting the rows greater than the training size\n",
    "    test_df = sampled_exploded.where(col('row_number') > col('trainingSize'))\n",
    "    test_df = test_df.select('userID', 'paperID').orderBy('userID')\n",
    "    \n",
    "    return (training_df, test_df)\n",
    "\n",
    "(training_df, test_df) = sampling(50, user_df_pre, trainingSize=0.8)"
   ]
  },
  {
   "cell_type": "code",
   "execution_count": null,
   "metadata": {},
   "outputs": [],
   "source": [
    "def getProfile(train_df, preprocessed_df, unrated_df, paper_profile):\n",
    "    \n",
    "    userProfile = getUserProfile(user_df, preprocessed_df)\n",
    "    train_user_w2v = userProfile.join(train_df, [\"userID\"])\n",
    "    train_user_w2v = train_user_w2v.drop(\"paperID\")\n",
    "    profile_df = unrated_df.join(train_user_w2v, [\"userID\"]).join(paper_profile, [\"paperID\"])\n",
    "    \n",
    "    return profile_df\n",
    "\n",
    "sampledProfiles = getProfile(training_df, conservative_df, unrated_df, paper_w2v_cp)"
   ]
  },
  {
   "cell_type": "code",
   "execution_count": null,
   "metadata": {},
   "outputs": [],
   "source": [
    "k = 10\n",
    "\n",
    "sampledRec = w2vRS(sampledProfiles, k)\n",
    "\n",
    "sampledRec.show(truncate=False)"
   ]
  },
  {
   "cell_type": "code",
   "execution_count": 41,
   "metadata": {},
   "outputs": [
    {
     "name": "stdout",
     "output_type": "stream",
     "text": [
      "+--------------------+--------------------+-------+\n",
      "|              userID|             paperID|libSize|\n",
      "+--------------------+--------------------+-------+\n",
      "|d0c9aaa788153daea...|[2080631, 6343346...|     45|\n",
      "|f05bcffe7951de9e5...|[1158654, 478707,...|    170|\n",
      "|d1d41a15201915503...|[6610569, 6493797...|     42|\n",
      "|b656009a6efdc8b1a...|[771870, 181369, ...|    104|\n",
      "|d85f7d83f27b3f533...|[7610843, 3633347...|     29|\n",
      "|3b715ebaf1f8f81a1...|[4119394, 3378798...|    216|\n",
      "|f3c28e50db4ce8ad8...|[2856540, 2994495...|     24|\n",
      "|38fe6373389d12b5b...|[7276116, 255799,...|     32|\n",
      "|1eac022a97d683eac...|[3973229, 322433,...|    334|\n",
      "|7c0081293b3988065...|[3453059, 3007833...|    227|\n",
      "|4c8912d1b04471cf5...|[3579579, 1931121...|     32|\n",
      "|51656fa1c9a7e0412...|[927126, 967059, ...|     41|\n",
      "|f1e1cd4ff25018273...|[106227, 813152, ...|    168|\n",
      "|a0bbf6bb9b1c818f3...|[1202499, 1215706...|     35|\n",
      "|11740197cbfd484fb...|[4110917, 5138376...|     36|\n",
      "|6ceb80c354731c63e...|[2074791, 154213,...|     21|\n",
      "|cbd4a69e4b3ed3472...|[244297, 5307378,...|    201|\n",
      "|99c218f7a28adc458...|[8362844, 5372509...|     53|\n",
      "|b10b99b2fc743394b...|[2425533, 1743137...|     37|\n",
      "|ee1dfee93ebeadade...|[674981, 200297, ...|     58|\n",
      "+--------------------+--------------------+-------+\n",
      "only showing top 20 rows\n",
      "\n"
     ]
    }
   ],
   "source": [
    "############################# Sample users with library size greater than 20 ######################################\n",
    "\n",
    "sampled_20 = user_df_pre.withColumn(\"libSize\", get_lib_size_udf(\"paperID\")).filter(col(\"libSize\") > 20)\n",
    "\n",
    "(training20_df, test20_df) = sampling(50, sampled_20, trainingSize=0.8)\n",
    "\n",
    "sampledProfiles20 = getProfile(training20_df, conservative_df, unrated_df, paper_w2v_cp)\n",
    "\n",
    "sampledRec20 = w2vRS(sampledProfiles20, k)\n",
    "\n",
    "sampledRec20.show(truncate=False)"
   ]
  },
  {
   "cell_type": "code",
   "execution_count": null,
   "metadata": {},
   "outputs": [],
   "source": [
    "def castToArray(df, colName):\n",
    "    dff = df.withColumn(colName, split(col(colName), \", \").cast(ArrayType(IntegerType())))\n",
    "    return dff\n",
    "\n",
    "sampledRec = castToArray(sampledRec, \"top_papers\")\n",
    "sampledRec20 = castToArray(sampledRec20, \"top_papers\")"
   ]
  },
  {
   "cell_type": "code",
   "execution_count": null,
   "metadata": {},
   "outputs": [],
   "source": [
    "# Concatenate the test set into a list of integers\n",
    "test_df_collected = test_df.groupby(\"userID\").agg(f.concat_ws(\", \", f.collect_list(test_df.paperID)).alias(\"paperID\"))\n",
    "test_df_collected = test_df_collected.withColumn(\"paperID\", split(col(\"paperID\"), \",\\s*\").cast(ArrayType(IntegerType())).alias(\"paperID\")).orderBy(\"userID\")\n",
    "\n",
    "test20_df_collected = test20_df.groupby(\"userID\").agg(f.concat_ws(\", \", f.collect_list(test_df.paperID)).alias(\"paperID\"))\n",
    "test20_df_collected = test20_df_collected.withColumn(\"paperID\", split(col(\"paperID\"), \",\\s*\").cast(ArrayType(IntegerType())).alias(\"paperID\")).orderBy(\"userID\")"
   ]
  },
  {
   "cell_type": "code",
   "execution_count": 21,
   "metadata": {},
   "outputs": [],
   "source": [
    "joined_test = test_df_collected.join(sampledRec, \"userID\")\n",
    "joined_test = joined_test.select(\"userID\", col(\"paperID\").alias(\"test_set\"), col(\"top_papers\").alias(\"train_set\"))\n",
    "\n",
    "joined20_test = test20_df_collected.join(sampledRec20, \"userID\")\n",
    "joined20_test = joined20_test.select(\"userID\", col(\"paperID\").alias(\"test_set\"), col(\"top_papers\").alias(\"train_set\"))"
   ]
  },
  {
   "cell_type": "code",
   "execution_count": 22,
   "metadata": {},
   "outputs": [
    {
     "name": "stdout",
     "output_type": "stream",
     "text": [
      "TF-IDF recommender\n",
      "+--------------------------------+----+\n",
      "|userID                          |Hits|\n",
      "+--------------------------------+----+\n",
      "|1eac022a97d683eace8815545ce3153f|[]  |\n",
      "|589b870a611c25fa99bd3d7295ac0622|[]  |\n",
      "+--------------------------------+----+\n",
      "\n",
      "LDA recommender\n",
      "+--------------------------------+----+\n",
      "|userID                          |Hits|\n",
      "+--------------------------------+----+\n",
      "|1eac022a97d683eace8815545ce3153f|[]  |\n",
      "|589b870a611c25fa99bd3d7295ac0622|[]  |\n",
      "+--------------------------------+----+\n",
      "\n"
     ]
    }
   ],
   "source": [
    "def getHits(train, test):\n",
    "    return list(set(train).intersection(test))\n",
    "\n",
    "getHits_udf = udf(getHits, ArrayType(IntegerType()))\n",
    "# TF-IDF\n",
    "print(\"TF-IDF recommender\")\n",
    "tf_hits = joined_tf_test.withColumn('Hits', getHits_udf(joined_tf_test.train_set, joined_tf_test.test_set))\n",
    "tf_hits = tf_hits.select(\"userID\", \"Hits\")\n",
    "tf_hits.show(truncate=False)\n",
    "\n",
    "print(\"LDA recommender\")\n",
    "# LDA\n",
    "lda_hits = joined_lda_test.withColumn('Hits', getHits_udf(joined_lda_test.train_set, joined_lda_test.test_set))\n",
    "lda_hits = lda_hits.select(\"userID\", \"Hits\")\n",
    "lda_hits.show(truncate=False)"
   ]
  },
  {
   "cell_type": "markdown",
   "metadata": {},
   "source": [
    "### Since we could not get results for the hits, we modified the results to show our computations for the evaluation"
   ]
  },
  {
   "cell_type": "code",
   "execution_count": 23,
   "metadata": {},
   "outputs": [
    {
     "name": "stdout",
     "output_type": "stream",
     "text": [
      "+--------------------+---------+\n",
      "|              userID|     Hits|\n",
      "+--------------------+---------+\n",
      "|               user0|[1, 2, 3]|\n",
      "|               user1|[4, 5, 6]|\n",
      "|1eac022a97d683eac...|       []|\n",
      "|589b870a611c25fa9...|       []|\n",
      "+--------------------+---------+\n",
      "\n",
      "+--------------------+--------------------+\n",
      "|              userID|             paperID|\n",
      "+--------------------+--------------------+\n",
      "|               user0|     [2, 3, 4, 1, 5]|\n",
      "|               user1|[5, 4, 6, 7, 8, 9...|\n",
      "|1eac022a97d683eac...|[3469193, 600359,...|\n",
      "|589b870a611c25fa9...|   [1283233, 956315]|\n",
      "+--------------------+--------------------+\n",
      "\n"
     ]
    }
   ],
   "source": [
    "########## example #####################\n",
    "\n",
    "columns = ['userID', 'Hits']\n",
    "vals = [(\"user0\", \"1, 2, 3\"), (\"user1\", \"4, 5, 6\")]\n",
    "\n",
    "ex = sqlContext.createDataFrame(vals, columns)\n",
    "ex = castToArray(ex, \"Hits\")\n",
    "\n",
    "ex_hits = ex.union(tf_hits)\n",
    "ex_hits.show()\n",
    "\n",
    "columns2 = ['userID', 'paperID']\n",
    "vals2 = [(\"user0\", \"2, 3, 4, 1, 5\"), (\"user1\", \"5, 4, 6, 7, 8, 9, 10\")]\n",
    "ex2 = sqlContext.createDataFrame(vals2, columns2)\n",
    "ex2 = castToArray(ex2, \"paperID\")\n",
    "\n",
    "ex_test = ex2.union(test_df_collected)\n",
    "ex_test.show()"
   ]
  },
  {
   "cell_type": "code",
   "execution_count": 24,
   "metadata": {},
   "outputs": [
    {
     "name": "stdout",
     "output_type": "stream",
     "text": [
      "+--------------------+--------------------+---------+\n",
      "|              userID|             paperID|     Hits|\n",
      "+--------------------+--------------------+---------+\n",
      "|               user1|[5, 4, 6, 7, 8, 9...|[4, 5, 6]|\n",
      "|1eac022a97d683eac...|[3469193, 600359,...|       []|\n",
      "|589b870a611c25fa9...|   [1283233, 956315]|       []|\n",
      "|               user0|     [2, 3, 4, 1, 5]|[1, 2, 3]|\n",
      "+--------------------+--------------------+---------+\n",
      "\n"
     ]
    }
   ],
   "source": [
    "joined_test_hits = ex_test.join(ex_hits, \"userID\")\n",
    "joined_test_hits.show()"
   ]
  },
  {
   "cell_type": "code",
   "execution_count": 29,
   "metadata": {},
   "outputs": [
    {
     "name": "stdout",
     "output_type": "stream",
     "text": [
      "The precision@10 for TF-IDF is: 0.15\n"
     ]
    }
   ],
   "source": [
    "num_user = 4\n",
    "\n",
    "def hitSize_k(hits):\n",
    "    return len(hits)/k\n",
    "\n",
    "hitSize_k_udf = udf(lambda x: hitSize_k(x), FloatType())\n",
    "\n",
    "def precisionK(df):\n",
    "    df = df.withColumn(\"hitSize_k\", hitSize_k_udf(\"Hits\"))\n",
    "    sumHits_k = df.select(f.sum(\"hitSize_k\")).collect()[0][0]\n",
    "    precision = (1/num_user)*sumHits_k\n",
    "    return precision\n",
    "\n",
    "print(\"The precision@\" + str(k) + \" for TF-IDF is: \" + (\"%.2f\" % precisionK(ex_hits)))"
   ]
  },
  {
   "cell_type": "code",
   "execution_count": 30,
   "metadata": {},
   "outputs": [
    {
     "name": "stdout",
     "output_type": "stream",
     "text": [
      "The Recall@10 for TF-IDF is: 0.26\n"
     ]
    }
   ],
   "source": [
    "def hitSize_testSize(hits, testSize):\n",
    "    return len(hits)/len(testSize)\n",
    "\n",
    "hitSize_testSize_udf = udf(hitSize_testSize, FloatType())\n",
    "\n",
    "def recallK(df):\n",
    "    df = df.withColumn(\"hitSize_testSize\", hitSize_testSize_udf(df.Hits, df.paperID))\n",
    "    sumHits_test = df.select(f.sum(\"hitSize_testSize\")).collect()[0][0]\n",
    "    recall = (1/num_user)*sumHits_test\n",
    "    return recall\n",
    "\n",
    "print(\"The Recall@\" + str(k) + \" for TF-IDF is: \" + (\"%.2f\" % recallK(joined_test_hits)))"
   ]
  },
  {
   "cell_type": "code",
   "execution_count": 54,
   "metadata": {},
   "outputs": [
    {
     "name": "stdout",
     "output_type": "stream",
     "text": [
      "The MRR@10 for TF-IDF is: 0.33\n"
     ]
    }
   ],
   "source": [
    "def getPositionU(hits, test):\n",
    "    if not hits:\n",
    "        return 0.0\n",
    "    else:\n",
    "        return 1/test.index(hits[0])\n",
    "\n",
    "getPositionU_udf = udf(getPositionU, FloatType())\n",
    "\n",
    "def mrrK(df):\n",
    "    df = df.withColumn(\"P_u\", getPositionU_udf(df.Hits, df.paperID))\n",
    "    sumP_u = df.select(f.sum(\"P_u\")).collect()[0][0]\n",
    "    mrr = (1/num_user)*sumP_u\n",
    "    return mrr\n",
    "\n",
    "print(\"The MRR@\" + str(k) + \" for TF-IDF is: \" + (\"%.2f\" % mrrK(joined_test_hits)))"
   ]
  },
  {
   "cell_type": "markdown",
   "metadata": {},
   "source": [
    "### Since we could not get good results for the hits (empty), we computed the precision for k in {10, 20}\n",
    "#### We could change the 21 in the range to 101 to compute the precision up till k = 100"
   ]
  },
  {
   "cell_type": "code",
   "execution_count": 61,
   "metadata": {},
   "outputs": [
    {
     "name": "stdout",
     "output_type": "stream",
     "text": [
      "The precision@10 for TF-IDF is: 0.00\n",
      "The Recall@10 for TF-IDF is: 0.00\n",
      "\n",
      "The precision@11 for TF-IDF is: 0.00\n",
      "The Recall@11 for TF-IDF is: 0.00\n",
      "\n",
      "The precision@12 for TF-IDF is: 0.00\n",
      "The Recall@12 for TF-IDF is: 0.00\n",
      "\n",
      "The precision@13 for TF-IDF is: 0.00\n",
      "The Recall@13 for TF-IDF is: 0.00\n",
      "\n",
      "The precision@14 for TF-IDF is: 0.00\n",
      "The Recall@14 for TF-IDF is: 0.00\n",
      "\n",
      "The precision@15 for TF-IDF is: 0.00\n",
      "The Recall@15 for TF-IDF is: 0.00\n",
      "\n",
      "The precision@16 for TF-IDF is: 0.00\n"
     ]
    },
    {
     "ename": "KeyboardInterrupt",
     "evalue": "",
     "output_type": "error",
     "traceback": [
      "\u001b[0;31m---------------------------------------------------------------------------\u001b[0m",
      "\u001b[0;31mKeyboardInterrupt\u001b[0m                         Traceback (most recent call last)",
      "\u001b[0;32m<ipython-input-61-e0f967061c2a>\u001b[0m in \u001b[0;36m<module>\u001b[0;34m()\u001b[0m\n\u001b[1;32m     12\u001b[0m \u001b[0;34m\u001b[0m\u001b[0m\n\u001b[1;32m     13\u001b[0m     \u001b[0mprint\u001b[0m\u001b[0;34m(\u001b[0m\u001b[0;34m\"The precision@\"\u001b[0m \u001b[0;34m+\u001b[0m \u001b[0mstr\u001b[0m\u001b[0;34m(\u001b[0m\u001b[0mk\u001b[0m\u001b[0;34m)\u001b[0m \u001b[0;34m+\u001b[0m \u001b[0;34m\" for TF-IDF is: \"\u001b[0m \u001b[0;34m+\u001b[0m \u001b[0;34m(\u001b[0m\u001b[0;34m\"%.2f\"\u001b[0m \u001b[0;34m%\u001b[0m \u001b[0mprecisionK\u001b[0m\u001b[0;34m(\u001b[0m\u001b[0mtf_hits\u001b[0m\u001b[0;34m)\u001b[0m\u001b[0;34m)\u001b[0m\u001b[0;34m)\u001b[0m\u001b[0;34m\u001b[0m\u001b[0m\n\u001b[0;32m---> 14\u001b[0;31m     \u001b[0mprint\u001b[0m\u001b[0;34m(\u001b[0m\u001b[0;34m\"The Recall@\"\u001b[0m \u001b[0;34m+\u001b[0m \u001b[0mstr\u001b[0m\u001b[0;34m(\u001b[0m\u001b[0mk\u001b[0m\u001b[0;34m)\u001b[0m \u001b[0;34m+\u001b[0m \u001b[0;34m\" for TF-IDF is: \"\u001b[0m \u001b[0;34m+\u001b[0m \u001b[0;34m(\u001b[0m\u001b[0;34m\"%.2f\"\u001b[0m \u001b[0;34m%\u001b[0m \u001b[0mrecallK\u001b[0m\u001b[0;34m(\u001b[0m\u001b[0mtest_hits\u001b[0m\u001b[0;34m)\u001b[0m\u001b[0;34m)\u001b[0m \u001b[0;34m+\u001b[0m \u001b[0;34m\"\\n\"\u001b[0m\u001b[0;34m)\u001b[0m\u001b[0;34m\u001b[0m\u001b[0m\n\u001b[0m\u001b[1;32m     15\u001b[0m \u001b[0;34m\u001b[0m\u001b[0m\n",
      "\u001b[0;32m<ipython-input-30-761038ac5ddc>\u001b[0m in \u001b[0;36mrecallK\u001b[0;34m(df)\u001b[0m\n\u001b[1;32m      6\u001b[0m \u001b[0;32mdef\u001b[0m \u001b[0mrecallK\u001b[0m\u001b[0;34m(\u001b[0m\u001b[0mdf\u001b[0m\u001b[0;34m)\u001b[0m\u001b[0;34m:\u001b[0m\u001b[0;34m\u001b[0m\u001b[0m\n\u001b[1;32m      7\u001b[0m     \u001b[0mdf\u001b[0m \u001b[0;34m=\u001b[0m \u001b[0mdf\u001b[0m\u001b[0;34m.\u001b[0m\u001b[0mwithColumn\u001b[0m\u001b[0;34m(\u001b[0m\u001b[0;34m\"hitSize_testSize\"\u001b[0m\u001b[0;34m,\u001b[0m \u001b[0mhitSize_testSize_udf\u001b[0m\u001b[0;34m(\u001b[0m\u001b[0mdf\u001b[0m\u001b[0;34m.\u001b[0m\u001b[0mHits\u001b[0m\u001b[0;34m,\u001b[0m \u001b[0mdf\u001b[0m\u001b[0;34m.\u001b[0m\u001b[0mpaperID\u001b[0m\u001b[0;34m)\u001b[0m\u001b[0;34m)\u001b[0m\u001b[0;34m\u001b[0m\u001b[0m\n\u001b[0;32m----> 8\u001b[0;31m     \u001b[0msumHits_test\u001b[0m \u001b[0;34m=\u001b[0m \u001b[0mdf\u001b[0m\u001b[0;34m.\u001b[0m\u001b[0mselect\u001b[0m\u001b[0;34m(\u001b[0m\u001b[0mf\u001b[0m\u001b[0;34m.\u001b[0m\u001b[0msum\u001b[0m\u001b[0;34m(\u001b[0m\u001b[0;34m\"hitSize_testSize\"\u001b[0m\u001b[0;34m)\u001b[0m\u001b[0;34m)\u001b[0m\u001b[0;34m.\u001b[0m\u001b[0mcollect\u001b[0m\u001b[0;34m(\u001b[0m\u001b[0;34m)\u001b[0m\u001b[0;34m[\u001b[0m\u001b[0;36m0\u001b[0m\u001b[0;34m]\u001b[0m\u001b[0;34m[\u001b[0m\u001b[0;36m0\u001b[0m\u001b[0;34m]\u001b[0m\u001b[0;34m\u001b[0m\u001b[0m\n\u001b[0m\u001b[1;32m      9\u001b[0m     \u001b[0mrecall\u001b[0m \u001b[0;34m=\u001b[0m \u001b[0;34m(\u001b[0m\u001b[0;36m1\u001b[0m\u001b[0;34m/\u001b[0m\u001b[0mnum_user\u001b[0m\u001b[0;34m)\u001b[0m\u001b[0;34m*\u001b[0m\u001b[0msumHits_test\u001b[0m\u001b[0;34m\u001b[0m\u001b[0m\n\u001b[1;32m     10\u001b[0m     \u001b[0;32mreturn\u001b[0m \u001b[0mrecall\u001b[0m\u001b[0;34m\u001b[0m\u001b[0m\n",
      "\u001b[0;32m/usr/local/spark/python/pyspark/sql/dataframe.py\u001b[0m in \u001b[0;36mcollect\u001b[0;34m(self)\u001b[0m\n\u001b[1;32m    436\u001b[0m         \"\"\"\n\u001b[1;32m    437\u001b[0m         \u001b[0;32mwith\u001b[0m \u001b[0mSCCallSiteSync\u001b[0m\u001b[0;34m(\u001b[0m\u001b[0mself\u001b[0m\u001b[0;34m.\u001b[0m\u001b[0m_sc\u001b[0m\u001b[0;34m)\u001b[0m \u001b[0;32mas\u001b[0m \u001b[0mcss\u001b[0m\u001b[0;34m:\u001b[0m\u001b[0;34m\u001b[0m\u001b[0m\n\u001b[0;32m--> 438\u001b[0;31m             \u001b[0mport\u001b[0m \u001b[0;34m=\u001b[0m \u001b[0mself\u001b[0m\u001b[0;34m.\u001b[0m\u001b[0m_jdf\u001b[0m\u001b[0;34m.\u001b[0m\u001b[0mcollectToPython\u001b[0m\u001b[0;34m(\u001b[0m\u001b[0;34m)\u001b[0m\u001b[0;34m\u001b[0m\u001b[0m\n\u001b[0m\u001b[1;32m    439\u001b[0m         \u001b[0;32mreturn\u001b[0m \u001b[0mlist\u001b[0m\u001b[0;34m(\u001b[0m\u001b[0m_load_from_socket\u001b[0m\u001b[0;34m(\u001b[0m\u001b[0mport\u001b[0m\u001b[0;34m,\u001b[0m \u001b[0mBatchedSerializer\u001b[0m\u001b[0;34m(\u001b[0m\u001b[0mPickleSerializer\u001b[0m\u001b[0;34m(\u001b[0m\u001b[0;34m)\u001b[0m\u001b[0;34m)\u001b[0m\u001b[0;34m)\u001b[0m\u001b[0;34m)\u001b[0m\u001b[0;34m\u001b[0m\u001b[0m\n\u001b[1;32m    440\u001b[0m \u001b[0;34m\u001b[0m\u001b[0m\n",
      "\u001b[0;32m/usr/local/spark/python/lib/py4j-0.10.4-src.zip/py4j/java_gateway.py\u001b[0m in \u001b[0;36m__call__\u001b[0;34m(self, *args)\u001b[0m\n\u001b[1;32m   1129\u001b[0m             \u001b[0mproto\u001b[0m\u001b[0;34m.\u001b[0m\u001b[0mEND_COMMAND_PART\u001b[0m\u001b[0;34m\u001b[0m\u001b[0m\n\u001b[1;32m   1130\u001b[0m \u001b[0;34m\u001b[0m\u001b[0m\n\u001b[0;32m-> 1131\u001b[0;31m         \u001b[0manswer\u001b[0m \u001b[0;34m=\u001b[0m \u001b[0mself\u001b[0m\u001b[0;34m.\u001b[0m\u001b[0mgateway_client\u001b[0m\u001b[0;34m.\u001b[0m\u001b[0msend_command\u001b[0m\u001b[0;34m(\u001b[0m\u001b[0mcommand\u001b[0m\u001b[0;34m)\u001b[0m\u001b[0;34m\u001b[0m\u001b[0m\n\u001b[0m\u001b[1;32m   1132\u001b[0m         return_value = get_return_value(\n\u001b[1;32m   1133\u001b[0m             answer, self.gateway_client, self.target_id, self.name)\n",
      "\u001b[0;32m/usr/local/spark/python/lib/py4j-0.10.4-src.zip/py4j/java_gateway.py\u001b[0m in \u001b[0;36msend_command\u001b[0;34m(self, command, retry, binary)\u001b[0m\n\u001b[1;32m    881\u001b[0m         \u001b[0mconnection\u001b[0m \u001b[0;34m=\u001b[0m \u001b[0mself\u001b[0m\u001b[0;34m.\u001b[0m\u001b[0m_get_connection\u001b[0m\u001b[0;34m(\u001b[0m\u001b[0;34m)\u001b[0m\u001b[0;34m\u001b[0m\u001b[0m\n\u001b[1;32m    882\u001b[0m         \u001b[0;32mtry\u001b[0m\u001b[0;34m:\u001b[0m\u001b[0;34m\u001b[0m\u001b[0m\n\u001b[0;32m--> 883\u001b[0;31m             \u001b[0mresponse\u001b[0m \u001b[0;34m=\u001b[0m \u001b[0mconnection\u001b[0m\u001b[0;34m.\u001b[0m\u001b[0msend_command\u001b[0m\u001b[0;34m(\u001b[0m\u001b[0mcommand\u001b[0m\u001b[0;34m)\u001b[0m\u001b[0;34m\u001b[0m\u001b[0m\n\u001b[0m\u001b[1;32m    884\u001b[0m             \u001b[0;32mif\u001b[0m \u001b[0mbinary\u001b[0m\u001b[0;34m:\u001b[0m\u001b[0;34m\u001b[0m\u001b[0m\n\u001b[1;32m    885\u001b[0m                 \u001b[0;32mreturn\u001b[0m \u001b[0mresponse\u001b[0m\u001b[0;34m,\u001b[0m \u001b[0mself\u001b[0m\u001b[0;34m.\u001b[0m\u001b[0m_create_connection_guard\u001b[0m\u001b[0;34m(\u001b[0m\u001b[0mconnection\u001b[0m\u001b[0;34m)\u001b[0m\u001b[0;34m\u001b[0m\u001b[0m\n",
      "\u001b[0;32m/usr/local/spark/python/lib/py4j-0.10.4-src.zip/py4j/java_gateway.py\u001b[0m in \u001b[0;36msend_command\u001b[0;34m(self, command)\u001b[0m\n\u001b[1;32m   1026\u001b[0m \u001b[0;34m\u001b[0m\u001b[0m\n\u001b[1;32m   1027\u001b[0m         \u001b[0;32mtry\u001b[0m\u001b[0;34m:\u001b[0m\u001b[0;34m\u001b[0m\u001b[0m\n\u001b[0;32m-> 1028\u001b[0;31m             \u001b[0manswer\u001b[0m \u001b[0;34m=\u001b[0m \u001b[0msmart_decode\u001b[0m\u001b[0;34m(\u001b[0m\u001b[0mself\u001b[0m\u001b[0;34m.\u001b[0m\u001b[0mstream\u001b[0m\u001b[0;34m.\u001b[0m\u001b[0mreadline\u001b[0m\u001b[0;34m(\u001b[0m\u001b[0;34m)\u001b[0m\u001b[0;34m[\u001b[0m\u001b[0;34m:\u001b[0m\u001b[0;34m-\u001b[0m\u001b[0;36m1\u001b[0m\u001b[0;34m]\u001b[0m\u001b[0;34m)\u001b[0m\u001b[0;34m\u001b[0m\u001b[0m\n\u001b[0m\u001b[1;32m   1029\u001b[0m             \u001b[0mlogger\u001b[0m\u001b[0;34m.\u001b[0m\u001b[0mdebug\u001b[0m\u001b[0;34m(\u001b[0m\u001b[0;34m\"Answer received: {0}\"\u001b[0m\u001b[0;34m.\u001b[0m\u001b[0mformat\u001b[0m\u001b[0;34m(\u001b[0m\u001b[0manswer\u001b[0m\u001b[0;34m)\u001b[0m\u001b[0;34m)\u001b[0m\u001b[0;34m\u001b[0m\u001b[0m\n\u001b[1;32m   1030\u001b[0m             \u001b[0;32mif\u001b[0m \u001b[0manswer\u001b[0m\u001b[0;34m.\u001b[0m\u001b[0mstartswith\u001b[0m\u001b[0;34m(\u001b[0m\u001b[0mproto\u001b[0m\u001b[0;34m.\u001b[0m\u001b[0mRETURN_MESSAGE\u001b[0m\u001b[0;34m)\u001b[0m\u001b[0;34m:\u001b[0m\u001b[0;34m\u001b[0m\u001b[0m\n",
      "\u001b[0;32m/opt/conda/lib/python3.6/socket.py\u001b[0m in \u001b[0;36mreadinto\u001b[0;34m(self, b)\u001b[0m\n\u001b[1;32m    584\u001b[0m         \u001b[0;32mwhile\u001b[0m \u001b[0;32mTrue\u001b[0m\u001b[0;34m:\u001b[0m\u001b[0;34m\u001b[0m\u001b[0m\n\u001b[1;32m    585\u001b[0m             \u001b[0;32mtry\u001b[0m\u001b[0;34m:\u001b[0m\u001b[0;34m\u001b[0m\u001b[0m\n\u001b[0;32m--> 586\u001b[0;31m                 \u001b[0;32mreturn\u001b[0m \u001b[0mself\u001b[0m\u001b[0;34m.\u001b[0m\u001b[0m_sock\u001b[0m\u001b[0;34m.\u001b[0m\u001b[0mrecv_into\u001b[0m\u001b[0;34m(\u001b[0m\u001b[0mb\u001b[0m\u001b[0;34m)\u001b[0m\u001b[0;34m\u001b[0m\u001b[0m\n\u001b[0m\u001b[1;32m    587\u001b[0m             \u001b[0;32mexcept\u001b[0m \u001b[0mtimeout\u001b[0m\u001b[0;34m:\u001b[0m\u001b[0;34m\u001b[0m\u001b[0m\n\u001b[1;32m    588\u001b[0m                 \u001b[0mself\u001b[0m\u001b[0;34m.\u001b[0m\u001b[0m_timeout_occurred\u001b[0m \u001b[0;34m=\u001b[0m \u001b[0;32mTrue\u001b[0m\u001b[0;34m\u001b[0m\u001b[0m\n",
      "\u001b[0;31mKeyboardInterrupt\u001b[0m: "
     ]
    }
   ],
   "source": [
    "num_user = 2\n",
    "\n",
    "for k in range(10, 21):\n",
    "    # TF-IDF\n",
    "    tf_rec = cbrs(train_df, k).orderBy(\"userID\")\n",
    "    tf_rec  = castToArray(tf_rec, \"top_papers\")\n",
    "    joined_tf_test = test_df_collected.join(tf_rec, \"userID\")\n",
    "    joined_tf_test = joined_tf_test.select(\"userID\", col(\"paperID\").alias(\"test_set\"), col(\"top_papers\").alias(\"train_set\"))\n",
    "    tf_hits = joined_tf_test.withColumn('Hits', getHits_udf(joined_tf_test.train_set, joined_tf_test.test_set))\n",
    "    tf_hits = tf_hits.select(\"userID\", \"Hits\")\n",
    "    test_hits =  test_df_collected.join(tf_hits, \"userID\")\n",
    "    \n",
    "    print(\"The precision@\" + str(k) + \" for TF-IDF is: \" + (\"%.2f\" % precisionK(tf_hits)))\n",
    "    print(\"The Recall@\" + str(k) + \" for TF-IDF is: \" + (\"%.2f\" % recallK(test_hits)) + \"\\n\")\n",
    "   "
   ]
  },
  {
   "cell_type": "code",
   "execution_count": null,
   "metadata": {},
   "outputs": [],
   "source": [
    "for k in range(10, 21):\n",
    "    # LDA\n",
    "    lda_rec  = cbrs(train_df_lda, k).orderBy(\"userID\")\n",
    "    lda_rec  = castToArray(lda_rec, \"top_papers\")\n",
    "    joined_lda_test = test_df_collected.join(lda_rec, \"userID\")\n",
    "    joined_lda_test = joined_lda_test.select(\"userID\", col(\"paperID\").alias(\"test_set\"), col(\"top_papers\").alias(\"train_set\"))\n",
    "    lda_hits = joined_lda_test.withColumn('Hits', getHits_udf(joined_lda_test.train_set, joined_lda_test.test_set))\n",
    "    lda_hits = lda_hits.select(\"userID\", \"Hits\")\n",
    "    test_hits_lda =  test_df_collected.join(lda_hits, \"userID\")\n",
    "    \n",
    "    print(\"The precision@\" + str(k) + \" for LDA is: \" + (\"%.2f\" % precisionK(tf_hits)))\n",
    "    print(\"The Recall@\" + str(k) + \" for LDA is: \" + (\"%.2f\" % recallK(test_hits)) + \"\\n\")\n"
   ]
  }
 ],
 "metadata": {
  "kernelspec": {
   "display_name": "Python 3",
   "language": "python",
   "name": "python3"
  },
  "language_info": {
   "codemirror_mode": {
    "name": "ipython",
    "version": 3
   },
   "file_extension": ".py",
   "mimetype": "text/x-python",
   "name": "python",
   "nbconvert_exporter": "python",
   "pygments_lexer": "ipython3",
   "version": "3.6.3"
  }
 },
 "nbformat": 4,
 "nbformat_minor": 2
}
