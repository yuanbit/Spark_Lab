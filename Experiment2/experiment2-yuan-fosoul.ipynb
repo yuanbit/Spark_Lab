{
 "cells": [
  {
   "cell_type": "markdown",
   "metadata": {},
   "source": [
    "## Experiment-02\n",
    "### Amirreza Fosoul and Bithiah Yuan"
   ]
  },
  {
   "cell_type": "code",
   "execution_count": 1,
   "metadata": {},
   "outputs": [],
   "source": [
    "from pyspark.sql import SparkSession\n",
    "from pyspark import SparkContext\n",
    "from pyspark.sql.functions import *\n",
    "import string\n",
    "import csv\n",
    "import re\n",
    "import time\n",
    "spark = SparkSession.builder.appName('ex2').getOrCreate()"
   ]
  },
  {
   "cell_type": "code",
   "execution_count": 2,
   "metadata": {},
   "outputs": [],
   "source": [
    "from pyspark.sql.functions import *\n",
    "from pyspark.sql.functions import split\n",
    "import pyspark.sql.functions as f\n",
    "import re\n",
    "from pyspark.sql.functions import udf\n",
    "from pyspark.sql.types import ArrayType, FloatType, StringType\n",
    "from pyspark.sql.functions import desc\n",
    "\n",
    "# Read user ratings into Dataframe\n",
    "user_df = spark.read.option(\"delimiter\", \";\").csv('./users_libraries.txt')\n",
    "#user_df = spark.read.option(\"delimiter\", \";\").csv('./example.txt')\n",
    "user_df = user_df.select(col(\"_c0\").alias(\"userID\"), col(\"_c1\").alias(\"paperID\"))\n",
    "\n",
    "user_pre = user_df\n",
    "\n",
    "user_df = user_df.select(\"userID\", f.split(\"paperID\", \",\").alias(\"papers\"), f.explode(f.split(\"paperID\", \",\")).alias(\"paperID\"))\n",
    "user_df = user_df.drop(\"papers\")\n",
    "\n",
    "# Count the number of distinct users\n",
    "numUsers = user_df.select(\"userID\").distinct().count()\n",
    "\n",
    "# Get a dataframe of the distinct papers\n",
    "d_paper = user_df.select(\"paperID\").distinct()"
   ]
  },
  {
   "cell_type": "markdown",
   "metadata": {},
   "source": [
    "### Exercise 2. 1 (Advanced analysis)"
   ]
  },
  {
   "cell_type": "code",
   "execution_count": 19,
   "metadata": {},
   "outputs": [
    {
     "name": "stdout",
     "output_type": "stream",
     "text": [
      "0.9998305694442852\n"
     ]
    }
   ],
   "source": [
    "# Count the number of distinct papers\n",
    "numPapers = d_paper.count()\n",
    "\n",
    "z = numUsers*numPapers\n",
    "\n",
    "# Count the number of ratings\n",
    "numRatings = user_df.count()\n",
    "\n",
    "# Calculate the missing ratings in the rating matrix and\n",
    "# calculate the sparsity of the rating matrix\n",
    "sparsity = (z - numRatings)/z\n",
    "print(sparsity)"
   ]
  },
  {
   "cell_type": "markdown",
   "metadata": {},
   "source": [
    "#### Users/Ratings rank-frequency distribution"
   ]
  },
  {
   "cell_type": "code",
   "execution_count": 13,
   "metadata": {},
   "outputs": [],
   "source": [
    "# Count the number of papers each user rated\n",
    "numRatings_user = user_df.groupBy('userID').count()\n",
    "\n",
    "# Count the number of users w.r.t. to the number of ratings\n",
    "users_ratings = numRatings_user.select(col('userID'), col(\"count\").alias(\"library_size\")).orderBy('count', ascending=False)\n",
    "# Count the number of ratings w.r.t. the count of the number of users\n",
    "users_ratings = users_ratings.groupBy('library_size').count().orderBy('library_size', ascending=False)\n",
    "users_ratings = users_ratings.toPandas()"
   ]
  },
  {
   "cell_type": "code",
   "execution_count": 14,
   "metadata": {},
   "outputs": [
    {
     "data": {
      "image/png": "[encoded data removed]",
      "text/plain": [
       "<matplotlib.figure.Figure at 0x7fb905699780>"
      ]
     },
     "metadata": {},
     "output_type": "display_data"
    }
   ],
   "source": [
    "import matplotlib.pyplot as plt\n",
    "\n",
    "num_ratings = users_ratings['count']\n",
    "num_users = users_ratings['library_size']\n",
    "\n",
    "plt.plot(num_ratings, num_users)\n",
    "plt.xlabel('number of ratings')\n",
    "plt.ylabel('number of users')\n",
    "plt.show()"
   ]
  },
  {
   "cell_type": "markdown",
   "metadata": {},
   "source": [
    "#### Papers/Ratings rank-frequency distribution"
   ]
  },
  {
   "cell_type": "code",
   "execution_count": 16,
   "metadata": {},
   "outputs": [
    {
     "data": {
      "image/png": "[encoded data removed]",
      "text/plain": [
       "<matplotlib.figure.Figure at 0x7fb901e1b828>"
      ]
     },
     "metadata": {},
     "output_type": "display_data"
    }
   ],
   "source": [
    "# Group the dataframe by the paperID and count the number of papers\n",
    "papers_ratings = user_df.groupBy('paperID').count()\n",
    "# Rename column count as paper_count\n",
    "papers_ratings = papers_ratings.select(col(\"paperID\"), col(\"count\").alias(\"paper_count\"))\n",
    "# Count the number of ratings w.r.t. to the number of papers\n",
    "papers_ratings = papers_ratings.groupBy('paper_count').count().orderBy('paper_count', ascending=False)\n",
    "papers_ratings = papers_ratings.toPandas()\n",
    "\n",
    "num_ratings = papers_ratings['paper_count']\n",
    "num_papers = papers_ratings['count']\n",
    "\n",
    "plt.plot(num_ratings, num_papers)\n",
    "plt.xlabel('number of ratings')\n",
    "plt.ylabel('number of papers')\n",
    "plt.show()"
   ]
  },
  {
   "cell_type": "markdown",
   "metadata": {},
   "source": [
    "Most of the papers have a small number of ratings. We noticed a long-tail so it follows the power-law. "
   ]
  },
  {
   "cell_type": "markdown",
   "metadata": {},
   "source": [
    "### Exercise 2. 2 Rating matrix preparation"
   ]
  },
  {
   "cell_type": "code",
   "execution_count": 3,
   "metadata": {},
   "outputs": [],
   "source": [
    "from pyspark.sql.window import Window as W\n",
    "from pyspark.sql import functions as F\n",
    "from pyspark.sql.window import Window\n",
    "from pyspark.sql.functions import concat, col, lit, size\n",
    "from pyspark.sql.types import ArrayType\n",
    "from pyspark.sql.types import StructType\n",
    "from pyspark.sql.types import StructField\n",
    "from pyspark.sql.types import IntegerType\n",
    "sc = spark.sparkContext\n",
    "import random\n",
    "\n",
    "# Create a user hash map dataframe by adding a column with descending row numbers \n",
    "# to the pre-explode user dataframe\n",
    "user_hash_map = user_pre.withColumn(\"user_idx\", F.monotonically_increasing_id().cast(IntegerType()))\n",
    "\n",
    "# Select the user indices and paperID\n",
    "rating = user_hash_map.select('user_idx', 'paperID')\n",
    "\n",
    "# Split the string if all paperIDs into individual paperIDs and cast the datatype to int\n",
    "rating = rating.withColumn(\"papers\", split(col(\"paperID\"), \",\\s*\").cast(ArrayType(IntegerType())).alias(\"papers\"))\n",
    "# Drop the column with the string of paperIDs\n",
    "rating = rating.drop(\"paperID\")\n",
    "\n",
    "# Add a column of 1's called ratings for the rated papers w.r.t to the user index\n",
    "rating = rating.withColumn(\"rating\", lit(1))\n",
    "\n",
    "# Transform the distinct paperIDs dataframe to a list\n",
    "paper_list = list(d_paper.select('paperID').toPandas()['paperID'])\n",
    "# Map each distinct paper into int\n",
    "paper_list = list(map(int, paper_list))\n",
    "\n",
    "# Function to call in udf\n",
    "def unrated(papers):\n",
    "    # Transform the list of distinct papers and the list of rated papers of each user to a set\n",
    "    # Substract the two sets to get the list of unrated papers for each user\n",
    "    # Transform back to list\n",
    "    unrated = list(set(paper_list) - set(papers))\n",
    "\n",
    "    # Select n random papers from the unrated papers where n is the \n",
    "    # length of the rated papers list of each user\n",
    "    unrated_papers = random.sample(unrated, len(papers))\n",
    "            \n",
    "    return unrated_papers\n",
    "\n",
    "\n",
    "# udf to get a list of unrated papers with the length of rated papers for each user\n",
    "get_unrated = udf(lambda x: unrated(x), ArrayType(IntegerType()))\n",
    "\n",
    "# Add a new column of unrated papers for each user\n",
    "rating = rating.withColumn(\"unrated\", get_unrated(rating.papers))\n",
    "\n",
    "# Create a dataframe with the rated papers and their ratings of 1's\n",
    "rated_df = rating.select(\"user_idx\", \"papers\", \"rating\")\n",
    "\n",
    "# Create a dataframe with the unrated papers\n",
    "unrated_df = rating.select(\"user_idx\", col(\"unrated\").alias(\"papers\"))\n",
    "# Add a column of ratings of 0's to the unrated papers\n",
    "unrated_df = unrated_df.withColumn(\"rating\", lit(0))\n",
    "\n",
    "# Union the rated and unrated dataframes and order by the user indices\n",
    "rating_matrix = rated_df.union(unrated_df).orderBy(\"user_idx\")\n",
    "\n",
    "# Explode the lists of paperIDs w.r.t. each user\n",
    "rating_matrix = rating_matrix.select(\"user_idx\", f.explode(\"papers\").alias(\"paperID\"), 'rating')"
   ]
  },
  {
   "cell_type": "code",
   "execution_count": 17,
   "metadata": {},
   "outputs": [
    {
     "name": "stdout",
     "output_type": "stream",
     "text": [
      "+--------+--------+------+\n",
      "|user_idx| paperID|rating|\n",
      "+--------+--------+------+\n",
      "|      14|  115945|     1|\n",
      "|      14|11733005|     1|\n",
      "|      14| 9045137|     1|\n",
      "|      14| 3728173|     1|\n",
      "|      14| 8310458|     1|\n",
      "|      14| 3385639|     1|\n",
      "|      14|  361707|     0|\n",
      "|      14| 1371682|     0|\n",
      "|      14| 3065830|     0|\n",
      "|      14|10155007|     0|\n",
      "|      14| 5376028|     0|\n",
      "|      14| 5770898|     0|\n",
      "+--------+--------+------+\n",
      "\n"
     ]
    }
   ],
   "source": [
    "rating_matrix.where(rating_matrix.user_idx==\"14\").show()"
   ]
  },
  {
   "cell_type": "code",
   "execution_count": 3,
   "metadata": {},
   "outputs": [
    {
     "name": "stdout",
     "output_type": "stream",
     "text": [
      "+--------+-------+------+\n",
      "|user_idx|paperID|rating|\n",
      "+--------+-------+------+\n",
      "|       0|3929762|     1|\n",
      "|       0| 503574|     1|\n",
      "|       0|5819422|     1|\n",
      "|       0|4238883|     1|\n",
      "|       0|5788061|     1|\n",
      "|       0| 462949|     1|\n",
      "|       0| 635215|     1|\n",
      "|       0| 635216|     1|\n",
      "|       0|4810441|     1|\n",
      "|       0|3481823|     1|\n",
      "|       0|4165233|     1|\n",
      "|       0|3366480|     1|\n",
      "|       0|5984302|     1|\n",
      "|       0|4238942|     1|\n",
      "|       0|5490453|     1|\n",
      "|       0|4636156|     1|\n",
      "|       0|5996865|     1|\n",
      "|       0|4194836|     1|\n",
      "|       0|5828780|     1|\n",
      "|       0|4450195|     1|\n",
      "+--------+-------+------+\n",
      "only showing top 20 rows\n",
      "\n"
     ]
    }
   ],
   "source": [
    "rating_matrix.show()"
   ]
  },
  {
   "cell_type": "markdown",
   "metadata": {},
   "source": [
    "### Exercise 2.3 (ALS algorithm)"
   ]
  },
  {
   "cell_type": "code",
   "execution_count": 4,
   "metadata": {},
   "outputs": [
    {
     "name": "stdout",
     "output_type": "stream",
     "text": [
      "+--------+\n",
      "|user_idx|\n",
      "+--------+\n",
      "|      33|\n",
      "+--------+\n",
      "\n"
     ]
    }
   ],
   "source": [
    "from pyspark.ml.evaluation import RegressionEvaluator\n",
    "from pyspark.ml.recommendation import ALS\n",
    "from pyspark.sql import Row\n",
    "\n",
    "# Get the user index corresponding to the given userID\n",
    "user = user_hash_map.select('user_idx').where(user_hash_map.userID==\"1eac022a97d683eace8815545ce3153f\").show()                                                                                                          "
   ]
  },
  {
   "cell_type": "code",
   "execution_count": 7,
   "metadata": {},
   "outputs": [],
   "source": [
    "als = ALS(maxIter=5, userCol=\"user_idx\", itemCol=\"paperID\", ratingCol=\"rating\", coldStartStrategy=\"drop\")\n",
    "\n",
    "model = als.fit(rating_matrix)"
   ]
  },
  {
   "cell_type": "code",
   "execution_count": 11,
   "metadata": {},
   "outputs": [
    {
     "name": "stdout",
     "output_type": "stream",
     "text": [
      "+--------+---------------------------------------------------------------------------------------------------------------------------------------------------------------------------------------------------------+\n",
      "|user_idx|recommendations                                                                                                                                                                                          |\n",
      "+--------+---------------------------------------------------------------------------------------------------------------------------------------------------------------------------------------------------------+\n",
      "|33      |[[418828,2.7784605], [10677634,2.743701], [1038496,2.685771], [2985762,2.5943809], [574,2.5866868], [2712544,2.567454], [522797,2.5550659], [7983526,2.5538464], [6628691,2.5516655], [7134684,2.551024]]|\n",
      "+--------+---------------------------------------------------------------------------------------------------------------------------------------------------------------------------------------------------------+\n",
      "\n"
     ]
    }
   ],
   "source": [
    "# Get top 10 recommendations\n",
    "# Result [paperID, prediction]\n",
    "userRecs = model.recommendForAllUsers(10)\n",
    "userRecs.select('*').where(userRecs.user_idx==\"33\").show(truncate=False)"
   ]
  },
  {
   "cell_type": "markdown",
   "metadata": {},
   "source": [
    "### Exercise 2. 4 (Recommender System Evaluation)"
   ]
  },
  {
   "cell_type": "code",
   "execution_count": 5,
   "metadata": {},
   "outputs": [],
   "source": [
    "(training, test) = rating_matrix.randomSplit([0.7, 0.3])"
   ]
  },
  {
   "cell_type": "code",
   "execution_count": 12,
   "metadata": {},
   "outputs": [
    {
     "name": "stdout",
     "output_type": "stream",
     "text": [
      "Root-mean-square error = 0.5184298347587089\n"
     ]
    }
   ],
   "source": [
    "training_model = als.fit(training)\n",
    "\n",
    "predictions = training_model.transform(test)\n",
    "\n",
    "evaluator = RegressionEvaluator(metricName=\"rmse\", labelCol=\"rating\", predictionCol=\"prediction\")\n",
    "rmse = evaluator.evaluate(predictions)\n",
    "print(\"Root-mean-square error = \" + str(rmse))"
   ]
  },
  {
   "cell_type": "code",
   "execution_count": 13,
   "metadata": {},
   "outputs": [
    {
     "name": "stdout",
     "output_type": "stream",
     "text": [
      "+--------+----------------------------------------------------------------------------------------------------------------------------------------------------------------------------------------+\n",
      "|user_idx|Recommendations                                                                                                                                                                         |\n",
      "+--------+----------------------------------------------------------------------------------------------------------------------------------------------------------------------------------------+\n",
      "|33      |833661 2.2837799, 6351182 2.0041034, 1926414 1.9341322, 484976 1.8524623, 531300 1.6097639, 4191871 1.5111355, 2348956 1.4977813, 8465912 1.4669486, 5915678 1.4315963, 388242 1.4122236|\n",
      "+--------+----------------------------------------------------------------------------------------------------------------------------------------------------------------------------------------+\n",
      "\n"
     ]
    }
   ],
   "source": [
    "# Select the user indices and order the prediction column in descending order\n",
    "window = Window.partitionBy(col(\"user_idx\")).orderBy((col(\"prediction\")).desc())\n",
    "\n",
    "# Select all the columns and add a column of row numbers over each user and get the top 10 rows\n",
    "p = predictions.select(col('*'), row_number().over(window).alias('row_number')).where(col('row_number') <= 10)\n",
    "\n",
    "# Drop the rating and row_number column\n",
    "p= p.drop('rating', 'row_number')\n",
    "\n",
    "# Create a new column with the concatenation of the paperID and it's prediction\n",
    "p = p.withColumn(\"paper_pred\", f.concat(col(\"paperID\"), lit(\" \"), col(\"prediction\")))\n",
    "# Drop paperID and prediction column\n",
    "p = p.drop(\"paperID\", \"prediction\")\n",
    "\n",
    "# For each user index concatenate all his paperID predictions\n",
    "p = p.groupby(\"user_idx\").agg(f.concat_ws(\", \", f.collect_list(\"paper_pred\")).alias(\"Recommendations\"))\n",
    "\n",
    "# Show the top 10 recommendations for the given user\n",
    "p.select('*').where(p.user_idx==\"33\").show(truncate=False)"
   ]
  },
  {
   "cell_type": "markdown",
   "metadata": {},
   "source": [
    "### Exercise 2. 5 (Hyperparameter tuning)"
   ]
  },
  {
   "cell_type": "markdown",
   "metadata": {},
   "source": [
    "We are using a reduced user_libraries file called \"example.txt\" due to the runtime. "
   ]
  },
  {
   "cell_type": "code",
   "execution_count": 6,
   "metadata": {},
   "outputs": [],
   "source": [
    "from pyspark.ml import Pipeline\n",
    "from pyspark.ml.linalg import Vectors\n",
    "from pyspark.ml.evaluation import RegressionEvaluator\n",
    "from pyspark.ml.regression import LinearRegression\n",
    "from pyspark.ml.tuning import CrossValidator, ParamGridBuilder, CrossValidatorModel\n",
    "\n",
    "als = ALS(userCol=\"user_idx\", itemCol=\"paperID\", ratingCol=\"rating\", coldStartStrategy=\"drop\")\n",
    "\n",
    "# Construct a grid of parameters to search over the list of ranks\n",
    "param_grid = ParamGridBuilder().addGrid(als.rank,[10, 25, 50],).build()\n",
    "\n",
    "# Measure the rmse to determine how well a fitted Model does on held-out test data\n",
    "evaluator = RegressionEvaluator(metricName=\"rmse\", labelCol=\"rating\",)\n",
    "\n",
    "# Tune the parameter of ALS \n",
    "# numFolds = 3 generates 3 (training, test) dataset pairs\n",
    "# each uses 2/3 of the data for training and 1/3 for testing. \n",
    "# then computes the average evaluation metric for the 3 Models produced \n",
    "# by fitting the Estimator on the 3 different (training, test) dataset pairs.\n",
    "crossval = CrossValidator(estimator=als,\n",
    "                          estimatorParamMaps=param_grid,\n",
    "                          evaluator=evaluator,numFolds=3)\n",
    "\n",
    "cv_model = crossval.fit(training)"
   ]
  },
  {
   "cell_type": "code",
   "execution_count": 7,
   "metadata": {},
   "outputs": [
    {
     "data": {
      "text/plain": [
       "10"
      ]
     },
     "execution_count": 7,
     "metadata": {},
     "output_type": "execute_result"
    }
   ],
   "source": [
    "# Get the best model\n",
    "best_model = cv_model.bestModel\n",
    "# Get the rank of the best model\n",
    "best_model.rank"
   ]
  },
  {
   "cell_type": "code",
   "execution_count": 8,
   "metadata": {},
   "outputs": [
    {
     "name": "stdout",
     "output_type": "stream",
     "text": [
      "Root-mean-square error = 0.39693658391671854\n"
     ]
    }
   ],
   "source": [
    "rmse = evaluator.evaluate(best_model.transform(test))\n",
    "print(\"Root-mean-square error = \" + str(rmse))"
   ]
  },
  {
   "cell_type": "code",
   "execution_count": 13,
   "metadata": {},
   "outputs": [
    {
     "name": "stdout",
     "output_type": "stream",
     "text": [
      "Root-mean-square error = 0.3912164198495297\n"
     ]
    }
   ],
   "source": [
    "als = ALS(maxIter = 15, rank = best_model.rank, userCol=\"user_idx\", itemCol=\"paperID\", ratingCol=\"rating\", coldStartStrategy=\"drop\")\n",
    "\n",
    "training_model = als.fit(training)\n",
    "\n",
    "predictions = training_model.transform(test)\n",
    "\n",
    "evaluator = RegressionEvaluator(metricName=\"rmse\", labelCol=\"rating\", predictionCol=\"prediction\")\n",
    "rmse = evaluator.evaluate(predictions)\n",
    "print(\"Root-mean-square error = \" + str(rmse))"
   ]
  },
  {
   "cell_type": "code",
   "execution_count": 10,
   "metadata": {},
   "outputs": [
    {
     "name": "stdout",
     "output_type": "stream",
     "text": [
      "Root-mean-square error = 0.38993338263740007\n"
     ]
    }
   ],
   "source": [
    "als = ALS(maxIter = 20, rank = best_model.rank, userCol=\"user_idx\", itemCol=\"paperID\", ratingCol=\"rating\", coldStartStrategy=\"drop\")\n",
    "\n",
    "training_model = als.fit(training)\n",
    "\n",
    "predictions = training_model.transform(test)\n",
    "\n",
    "evaluator = RegressionEvaluator(metricName=\"rmse\", labelCol=\"rating\", predictionCol=\"prediction\")\n",
    "rmse = evaluator.evaluate(predictions)\n",
    "print(\"Root-mean-square error = \" + str(rmse))"
   ]
  },
  {
   "cell_type": "code",
   "execution_count": 11,
   "metadata": {},
   "outputs": [
    {
     "name": "stdout",
     "output_type": "stream",
     "text": [
      "Root-mean-square error = 0.3744957957540127\n"
     ]
    }
   ],
   "source": [
    "als = ALS(maxIter = 25, rank = best_model.rank, userCol=\"user_idx\", itemCol=\"paperID\", ratingCol=\"rating\", coldStartStrategy=\"drop\")\n",
    "\n",
    "training_model = als.fit(training)\n",
    "\n",
    "predictions = training_model.transform(test)\n",
    "\n",
    "evaluator = RegressionEvaluator(metricName=\"rmse\", labelCol=\"rating\", predictionCol=\"prediction\")\n",
    "rmse = evaluator.evaluate(predictions)\n",
    "print(\"Root-mean-square error = \" + str(rmse))"
   ]
  },
  {
   "cell_type": "markdown",
   "metadata": {},
   "source": [
    "When we increased the maxIter, the rmse decreases slightly."
   ]
  }
 ],
 "metadata": {
  "kernelspec": {
   "display_name": "Python 3",
   "language": "python",
   "name": "python3"
  },
  "language_info": {
   "codemirror_mode": {
    "name": "ipython",
    "version": 3
   },
   "file_extension": ".py",
   "mimetype": "text/x-python",
   "name": "python",
   "nbconvert_exporter": "python",
   "pygments_lexer": "ipython3",
   "version": "3.6.3"
  }
 },
 "nbformat": 4,
 "nbformat_minor": 2
}
