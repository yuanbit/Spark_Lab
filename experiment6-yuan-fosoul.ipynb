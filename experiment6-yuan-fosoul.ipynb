{
 "cells": [
  {
   "cell_type": "markdown",
   "metadata": {},
   "source": [
    "## Experiment-06\n",
    "### Amirreza Fosoul and Bithiah Yuan"
   ]
  },
  {
   "cell_type": "code",
   "execution_count": 2,
   "metadata": {},
   "outputs": [],
   "source": [
    "from pyspark.sql import SparkSession\n",
    "from pyspark import SparkContext\n",
    "from pyspark.sql.functions import *\n",
    "import string\n",
    "import csv\n",
    "import re\n",
    "import time\n",
    "from pyspark.sql.functions import *\n",
    "from pyspark.sql.functions import split\n",
    "import pyspark.sql.functions as f\n",
    "import re\n",
    "from pyspark.sql.functions import udf\n",
    "from pyspark.sql.types import ArrayType, FloatType, StringType\n",
    "from pyspark.sql.functions import desc\n",
    "from pyspark.sql.window import Window as W\n",
    "from pyspark.sql import functions as F\n",
    "from pyspark.sql.window import Window\n",
    "from pyspark.sql.functions import concat, col, lit, size\n",
    "from pyspark.sql.types import ArrayType\n",
    "from pyspark.sql.types import StructType\n",
    "from pyspark.sql.types import StructField\n",
    "from pyspark.sql.types import IntegerType\n",
    "sc = spark.sparkContext\n",
    "import random\n",
    "spark = SparkSession.builder.appName('ex6').getOrCreate()"
   ]
  },
  {
   "cell_type": "code",
   "execution_count": 5,
   "metadata": {},
   "outputs": [
    {
     "name": "stdout",
     "output_type": "stream",
     "text": [
      "+--------------------+--------------------+\n",
      "|              userID|             paperID|\n",
      "+--------------------+--------------------+\n",
      "|28d3f81251d94b097...|3929762,503574,58...|\n",
      "|d0c9aaa788153daea...|2080631,6343346,5...|\n",
      "|f05bcffe7951de9e5...|1158654,478707,12...|\n",
      "|ca4f1ba4094011d9a...|              278019|\n",
      "|d1d41a15201915503...|6610569,6493797,6...|\n",
      "|f2f77383828ea6d39...|943458,238121,763429|\n",
      "|9c883d02115400f7b...|3509971,3509965,2...|\n",
      "|b656009a6efdc8b1a...|771870,181369,121...|\n",
      "|cf9c7f356092c34be...|               90558|\n",
      "|0f5cbb39410a9278f...|             9344598|\n",
      "|d85f7d83f27b3f533...|7610843,3633347,4...|\n",
      "|586c867a0688250ac...|464760,466011,373...|\n",
      "|10fdfaf945d5c27ad...|             2010550|\n",
      "|589b870a611c25fa9...|1283233,1305474,1...|\n",
      "|90f1a3e6fcdbf9bc5...|115945,11733005,9...|\n",
      "|7e070a9da96672e05...|             1071959|\n",
      "|3b715ebaf1f8f81a1...|4119394,3378798,1...|\n",
      "|488fb15e8c77f8054...|1523301,5281566,5...|\n",
      "|3fdf355e59949c79d...|7077220,1289842,1...|\n",
      "|c6b59086a0bbac141...|2230995,3050075,3...|\n",
      "+--------------------+--------------------+\n",
      "only showing top 20 rows\n",
      "\n"
     ]
    }
   ],
   "source": [
    "# Read user ratings into Dataframe\n",
    "user_df = spark.read.option(\"delimiter\", \";\").csv('./example0.txt')\n",
    "#user_df = spark.read.option(\"delimiter\", \";\").csv('./example.txt')\n",
    "user_df = user_df.select(col(\"_c0\").alias(\"userID\"), col(\"_c1\").alias(\"paperID\"))\n",
    "\n",
    "user_pre = user_df\n",
    "\n",
    "user_df = user_df.select(\"userID\", f.split(\"paperID\", \",\").alias(\"papers\"), f.explode(f.split(\"paperID\", \",\")).alias(\"paperID\"))\n",
    "user_df = user_df.drop(\"papers\")\n",
    "\n",
    "# Count the number of distinct users\n",
    "numUsers = user_df.select(\"userID\").distinct().count()\n",
    "\n",
    "# Get a dataframe of the distinct papers\n",
    "d_paper = user_df.select(\"paperID\").distinct()\n",
    "\n",
    "user_pre.show()"
   ]
  },
  {
   "cell_type": "markdown",
   "metadata": {},
   "source": [
    "### Exercise 6. 1 (Problem Modeling)"
   ]
  },
  {
   "cell_type": "code",
   "execution_count": 6,
   "metadata": {},
   "outputs": [
    {
     "name": "stdout",
     "output_type": "stream",
     "text": [
      "+--------------------+-------+------+\n",
      "|              userID|paperID|rating|\n",
      "+--------------------+-------+------+\n",
      "|01ecfc66d01b0dd84...| 970908|     1|\n",
      "|01ecfc66d01b0dd84...|  84168|     1|\n",
      "|01ecfc66d01b0dd84...|1843498|     1|\n",
      "|01ecfc66d01b0dd84...| 808689|     1|\n",
      "|01ecfc66d01b0dd84...| 508086|     1|\n",
      "|01ecfc66d01b0dd84...| 397003|     1|\n",
      "|01ecfc66d01b0dd84...| 841861|     0|\n",
      "|01ecfc66d01b0dd84...|2242776|     0|\n",
      "|01ecfc66d01b0dd84...| 878302|     0|\n",
      "|01ecfc66d01b0dd84...|1172205|     0|\n",
      "|01ecfc66d01b0dd84...| 151946|     0|\n",
      "|01ecfc66d01b0dd84...|2109140|     0|\n",
      "|0ad6516296d95068c...|2734645|     1|\n",
      "|0ad6516296d95068c...|1218426|     1|\n",
      "|0ad6516296d95068c...| 748113|     1|\n",
      "|0ad6516296d95068c...| 179912|     1|\n",
      "|0ad6516296d95068c...|2069872|     1|\n",
      "|0ad6516296d95068c...| 359059|     1|\n",
      "|0ad6516296d95068c...| 763543|     1|\n",
      "|0ad6516296d95068c...|2967998|     1|\n",
      "+--------------------+-------+------+\n",
      "only showing top 20 rows\n",
      "\n"
     ]
    }
   ],
   "source": [
    "# Create a user hash map dataframe by adding a column with descending row numbers \n",
    "# to the pre-explode user dataframe\n",
    "# user_hash_map = user_pre.withColumn(\"user_idx\", F.monotonically_increasing_id().cast(IntegerType()))\n",
    "\n",
    "# Select the user indices and paperID\n",
    "#rating = user_hash_map.select('user_idx', 'paperID')\n",
    "rating = user_pre.select('userID', 'paperID')\n",
    "\n",
    "# Split the string if all paperIDs into individual paperIDs and cast the datatype to int\n",
    "rating = rating.withColumn(\"papers\", split(col(\"paperID\"), \",\\s*\").cast(ArrayType(IntegerType())).alias(\"papers\"))\n",
    "# Drop the column with the string of paperIDs\n",
    "rating = rating.drop(\"paperID\")\n",
    "\n",
    "# Add a column of 1's called ratings for the rated papers w.r.t to the user index\n",
    "rating = rating.withColumn(\"rating\", lit(1))\n",
    "\n",
    "# Transform the distinct paperIDs dataframe to a list\n",
    "paper_list = list(d_paper.select('paperID').toPandas()['paperID'])\n",
    "# Map each distinct paper into int\n",
    "paper_list = list(map(int, paper_list))\n",
    "\n",
    "# Function to call in udf\n",
    "def unrated(papers):\n",
    "    # Transform the list of distinct papers and the list of rated papers of each user to a set\n",
    "    # Substract the two sets to get the list of unrated papers for each user\n",
    "    # Transform back to list\n",
    "    unrated = list(set(paper_list) - set(papers))\n",
    "\n",
    "    # Select n random papers from the unrated papers where n is the \n",
    "    # length of the rated papers list of each user\n",
    "    unrated_papers = random.sample(unrated, len(papers))\n",
    "            \n",
    "    return unrated_papers\n",
    "\n",
    "\n",
    "# udf to get a list of unrated papers with the length of rated papers for each user\n",
    "get_unrated = udf(lambda x: unrated(x), ArrayType(IntegerType()))\n",
    "\n",
    "# Add a new column of unrated papers for each user\n",
    "rating = rating.withColumn(\"unrated\", get_unrated(rating.papers))\n",
    "\n",
    "# Create a dataframe with the rated papers and their ratings of 1's\n",
    "rated_df = rating.select(\"userID\", \"papers\", \"rating\")\n",
    "\n",
    "# Create a dataframe with the unrated papers\n",
    "unrated_df = rating.select(\"userID\", col(\"unrated\").alias(\"papers\"))\n",
    "# Add a column of ratings of 0's to the unrated papers\n",
    "unrated_df = unrated_df.withColumn(\"rating\", lit(0))\n",
    "\n",
    "# Union the rated and unrated dataframes and order by the user indices\n",
    "rating_matrix = rated_df.union(unrated_df).orderBy(\"userID\")\n",
    "\n",
    "# Explode the lists of paperIDs w.r.t. each user\n",
    "rating_matrix = rating_matrix.select(\"userID\", f.explode(\"papers\").alias(\"paperID\"), 'rating')\n",
    "\n",
    "rating_matrix.show()"
   ]
  }
 ],
 "metadata": {
  "kernelspec": {
   "display_name": "Python 3",
   "language": "python",
   "name": "python3"
  },
  "language_info": {
   "codemirror_mode": {
    "name": "ipython",
    "version": 3
   },
   "file_extension": ".py",
   "mimetype": "text/x-python",
   "name": "python",
   "nbconvert_exporter": "python",
   "pygments_lexer": "ipython3",
   "version": "3.6.3"
  }
 },
 "nbformat": 4,
 "nbformat_minor": 2
}
